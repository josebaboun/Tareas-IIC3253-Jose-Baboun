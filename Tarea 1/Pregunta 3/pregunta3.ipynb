{
 "cells": [
  {
   "cell_type": "markdown",
   "id": "347b31bb-1429-4e5b-ad15-f7fedaa0fb88",
   "metadata": {},
   "source": [
    "## Tarea 1"
   ]
  },
  {
   "cell_type": "markdown",
   "id": "687202bf-24a1-44ea-ab32-822cf76b889f",
   "metadata": {},
   "source": [
    "## Pregunta 3\n",
    "\n",
    "Se implementa Merkle Tree desde 0. Se verifica con ejemplos funcionamiento abajo."
   ]
  },
  {
   "cell_type": "code",
   "execution_count": null,
   "id": "373ae4c8-5cbf-4aed-a202-efb450f1bc24",
   "metadata": {},
   "outputs": [],
   "source": [
    "import math"
   ]
  },
  {
   "cell_type": "code",
   "execution_count": 119,
   "id": "7fec937d-5652-4e3f-bda6-dd38e265003a",
   "metadata": {
    "tags": []
   },
   "outputs": [],
   "source": [
    "class MerkleTree:\n",
    "    def __init__(self, strings, hash_func): \n",
    "        self.S = strings\n",
    "        self.hash = hash_func\n",
    "        self.H = [hash_func(i) for i in strings]\n",
    "        \n",
    "    def get_root(self):\n",
    "        if len(self.S) == 1:\n",
    "            return self.hash(str(self.S[0]))\n",
    "        else:\n",
    "            S = [str(self.hash(i)) for i in self.S]\n",
    "            depth = math.ceil(math.log2(len(S)))\n",
    "            for u in range(depth):\n",
    "                R = []\n",
    "                if len(S) % 2 == 1:\n",
    "                    S.append(S[-1])\n",
    "                for i in range(0,len(S)-1, 2):\n",
    "                    R.append(str(self.hash(S[i] + S[i+1]))) \n",
    "                S = R\n",
    "            return S[0]\n",
    "        \n",
    "    def get_proof_for(self, item):\n",
    "        if item not in self.S:\n",
    "            None\n",
    "        else:\n",
    "            item = str(self.hash(item))\n",
    "            proof = list()\n",
    "            S = [str(self.hash(i)) for i in self.S]\n",
    "            if len(S) == 1:\n",
    "                return proof\n",
    "            else:\n",
    "                depth = math.ceil(math.log2(len(S)))\n",
    "                for u in range(depth):\n",
    "                    R = []\n",
    "                    if len(S) % 2 == 1:\n",
    "                        S.append(S[-1])\n",
    "                    for i in range(0,len(S)-1, 2):\n",
    "                        if S[i] == item:\n",
    "                            proof.append( (S[i+1], 'd')  )\n",
    "                            item = str(self.hash(S[i] + S[i+1]))\n",
    "                            \n",
    "                        elif S[i+1] == item:\n",
    "                            proof.append(( S[i], 'i' ))\n",
    "                            item = str((self.hash(S[i] + S[i+1])))\n",
    "                            \n",
    "                        R.append(str(self.hash(S[i] + S[i+1])))\n",
    "                    S = R\n",
    "                return proof"
   ]
  },
  {
   "cell_type": "code",
   "execution_count": 120,
   "id": "c9848e50-221d-4dda-874d-9882fed508be",
   "metadata": {},
   "outputs": [],
   "source": [
    "def verify( root, item, proof, hash_f): \n",
    "    ans = str(hash_f(item))\n",
    "    for element in proof:\n",
    "        if element[1] == 'd':\n",
    "            ans = str(hash_f(ans + element[0]))\n",
    "        else:\n",
    "            ans = str(hash_f(element[0] + ans )) \n",
    "            \n",
    "    print(ans)\n",
    "    print(root)\n",
    "    return ans == root"
   ]
  },
  {
   "cell_type": "code",
   "execution_count": null,
   "id": "82ceea14-191c-46be-9989-c0ecc46bc14f",
   "metadata": {},
   "outputs": [],
   "source": [
    "def id_(s):\n",
    "    return str(s+'.')\n",
    "\n",
    "hash_f = hash\n",
    "\n",
    "S = [\"1\", \"2\", \"3\", \"4\", \"5\", \"6\", \"7\", \"8\", \"9\"]\n",
    "M = MerkleTree(S, hash_f)\n",
    "root = M.get_root()\n",
    "proof = M.get_proof_for('4')\n",
    "print(root)\n",
    "print(proof)"
   ]
  },
  {
   "cell_type": "code",
   "execution_count": 126,
   "id": "9ea77cde-9fc6-4353-b19e-c826f4dcaf60",
   "metadata": {},
   "outputs": [
    {
     "name": "stdout",
     "output_type": "stream",
     "text": [
      "3535468060160874694\n",
      "3535468060160874694\n"
     ]
    },
    {
     "data": {
      "text/plain": [
       "True"
      ]
     },
     "execution_count": 126,
     "metadata": {},
     "output_type": "execute_result"
    }
   ],
   "source": [
    "verify(root, '4', proof, hash_f)"
   ]
  },
  {
   "cell_type": "code",
   "execution_count": 173,
   "id": "d37c70d2-efe0-4686-a1e2-8786dad6f308",
   "metadata": {},
   "outputs": [
    {
     "data": {
      "text/plain": [
       "['5']"
      ]
     },
     "execution_count": 173,
     "metadata": {},
     "output_type": "execute_result"
    }
   ],
   "source": [
    "proof[:1]"
   ]
  },
  {
   "cell_type": "code",
   "execution_count": null,
   "id": "d37e75ed-66be-42d6-9f4a-430c0ce0380b",
   "metadata": {},
   "outputs": [],
   "source": []
  }
 ],
 "metadata": {
  "kernelspec": {
   "display_name": "Python 3 (ipykernel)",
   "language": "python",
   "name": "python3"
  },
  "language_info": {
   "codemirror_mode": {
    "name": "ipython",
    "version": 3
   },
   "file_extension": ".py",
   "mimetype": "text/x-python",
   "name": "python",
   "nbconvert_exporter": "python",
   "pygments_lexer": "ipython3",
   "version": "3.10.2"
  }
 },
 "nbformat": 4,
 "nbformat_minor": 5
}
