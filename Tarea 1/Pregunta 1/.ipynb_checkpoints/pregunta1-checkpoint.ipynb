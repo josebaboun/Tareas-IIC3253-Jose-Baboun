{
 "cells": [
  {
   "cell_type": "code",
   "execution_count": 300,
   "id": "341f3b74-b5db-48ed-9fcf-330099318182",
   "metadata": {},
   "outputs": [],
   "source": [
    "import time "
   ]
  },
  {
   "cell_type": "markdown",
   "id": "9f50a6fe-d96a-423a-a287-b0553450aff2",
   "metadata": {},
   "source": [
    "# Pregunta 1\n",
    "En la respuesta se usa un diccionario de frecuencias y un texto (Primer capítulo del Conde de Montecristo) de ejemplo. Para 2000 carácteres se demora menos de 3 segundos"
   ]
  },
  {
   "cell_type": "code",
   "execution_count": 242,
   "id": "290f8a66-2410-407a-991a-2d97c0d85e88",
   "metadata": {},
   "outputs": [],
   "source": [
    "# https://gist.github.com/pozhidaevak/0dca594d6f0de367f232909fe21cdb2f\n",
    "frequencies = {'E' : 12.0,\n",
    "'T' : 9.10,\n",
    "'A' : 8.12,\n",
    "'O' : 7.68,\n",
    "'I' : 7.31,\n",
    "'N' : 6.95,\n",
    "'S' : 6.28,\n",
    "'R' : 6.02,\n",
    "'H' : 5.92,\n",
    "'D' : 4.32,\n",
    "'L' : 3.98,\n",
    "'U' : 2.88,\n",
    "'C' : 2.71,\n",
    "'M' : 2.61,\n",
    "'F' : 2.30,\n",
    "'Y' : 2.11,\n",
    "'W' : 2.09,\n",
    "'G' : 2.03,\n",
    "'P' : 1.82,\n",
    "'B' : 1.49,\n",
    "'V' : 1.11,\n",
    "'K' : 0.69,\n",
    "'X' : 0.17,\n",
    "'Q' : 0.11,\n",
    "'J' : 0.10,\n",
    "'Z' : 0.07, \n",
    "'1' : 0.001,\n",
    "'2' : 0.001,\n",
    "'3' : 0.001,\n",
    "'4' : 0.001,\n",
    "'5' : 0.001, \n",
    "'6' : 0.001,\n",
    "'7' : 0.001, \n",
    "'8' : 0.001,\n",
    "'9' : 0.001, \n",
    "'0' : 0.001,\n",
    "}\n",
    "char_probability = {i: j/100 for i,j in frequencies.items()}\n",
    "alphabet = sorted(frequencies.keys())"
   ]
  },
  {
   "cell_type": "code",
   "execution_count": 244,
   "id": "318e0757-b1d6-4bef-92cf-53db9aa503c5",
   "metadata": {},
   "outputs": [],
   "source": [
    "def encrypt (key: str, message: str, alphabet: list) -> str:\n",
    "    cipher_text = \"\"\n",
    "    for i in range (len (message)) :\n",
    "        m_i = alphabet.index(message[i])\n",
    "        k_i = alphabet.index(key[i % len(key) ])\n",
    "        c_i = (m_i+k_i) % len(alphabet)\n",
    "        cipher_text += alphabet[c_i]\n",
    "    return cipher_text"
   ]
  },
  {
   "cell_type": "code",
   "execution_count": 289,
   "id": "51619571-36ad-4d85-9e63-742cb03cddca",
   "metadata": {},
   "outputs": [],
   "source": [
    "def most_likely_char(pos, cipher):\n",
    "    to_decrypt = [ cipher[i*_KEY_LENGHT + pos] for i in range(len(cipher) // (_KEY_LENGHT + 1)) ] ##OJO\n",
    "    best_char = 'A'\n",
    "    best_distance = len(alphabet)\n",
    "    \n",
    "    for candidate in alphabet:\n",
    "        char_count = {c:0 for c in alphabet}\n",
    "        for c in to_decrypt:\n",
    "            n_c = alphabet.index(c)\n",
    "            n_candidate = alphabet.index(candidate)\n",
    "            n = (n_c - n_candidate) % len(alphabet)\n",
    "            char_count[alphabet[n]] += 1\n",
    "        \n",
    "        diff = 0\n",
    "        for c in alphabet:\n",
    "            prob = char_count[c] / len(to_decrypt)\n",
    "            diff += abs(char_probability[c] - prob)\n",
    "            \n",
    "        if diff < best_distance:\n",
    "            best_char = candidate\n",
    "            best_distance = diff\n",
    "        \n",
    "    return best_char\n",
    "\n",
    "def abs_distance(string: str, frequencies: {str: float}) -> float: \n",
    "    return sum([\n",
    "    abs(frequencies[c] - string.count(c) / len(string)) for c in frequencies\n",
    "    ])"
   ]
  },
  {
   "cell_type": "code",
   "execution_count": 290,
   "id": "841f0d59-61c3-4620-9ffd-5afad36fcd16",
   "metadata": {},
   "outputs": [],
   "source": [
    "def break_rp( ciphertext, frequencies, distance):\n",
    "    \n",
    "    ciphertext = ciphertext.upper()\n",
    "    text = \"\"\n",
    "    DIST = len(ciphertext) * 100\n",
    "    \n",
    "    for _KEY_LENGHT in range(1, len(ciphertext)//50 -1):\n",
    "        probable_key = \"\".join([most_likely_char(i, ciphertext) for i in range(_KEY_LENGHT)])\n",
    "        plain_text=\"\"\n",
    "        for i in range(len(ciphertext)):\n",
    "            n_c = alphabet.index(ciphertext[i])\n",
    "            n_k = alphabet.index(probable_key[i % _KEY_LENGHT])\n",
    "            plain_text += alphabet[(n_c - n_k) % len(alphabet)]\n",
    "\n",
    "        dist = distance(plain_text, frequencies)\n",
    "        if dist < DIST:\n",
    "            DIST = dist\n",
    "            text = plain_text\n",
    "    \n",
    "    return text"
   ]
  },
  {
   "cell_type": "code",
   "execution_count": 306,
   "id": "67e61620-0d5d-4876-99d3-00fe7665bdf6",
   "metadata": {},
   "outputs": [
    {
     "name": "stdout",
     "output_type": "stream",
     "text": [
      "CHAPTERIONFEBRUARY241815THEWATCHTOWERATMARSEILLESSIGNALEDTHEARRIVALOFTHETHREEMASTERPHARAONCOMINGFROMSMYRNATRIESTEANDNAPLESTHEQUAYWASSOONCOVEREDWITHTHEUSUALCROWDOFCURIOUSONLOOKERSFORTHEARRIVALOFASHIPISALWAYSAGREATEVENTINMARSEILLESESPECIALLYWHENLIKETHEPHARAONITHASBEENBUILTRIGGEDANDLADENINTHECITYANDBELONGSTOALOCALSHIPOWNERMEANWHILETHEVESSELWASAPPROACHINGTHEHARBORUNDERTOPSAILSJIBANDFORESAILBUTSOSLOWLYANDWITHSUCHANAIROFMELANCHOLYTHATTHEONLOOKERSINSTINCTIVELYSENSINGMISFORTUNEBEGANTOWONDERWHATACCIDENTCOULDHAVEHAPPENEDONBOARDHOWEVERTHEEXPERIENCEDSEAMENAMONGTHEMSAWTHATIFTHEREHADBEENANACCIDENTITCOULDNOTHAVEHAPPENEDTOTHESHIPHERSELFFORSHEHADEVERYAPPEARANCEOFBEINGUNDERPERFECTCONTROLSTANDINGBESIDETHEPILOTWHOWASPREPARINGTOSTEERTHEPHARAONTHROUGHTHENARROWENTRANCEOFTHEHARBORWASAYOUNGMANWHOWITHVIGILANTEYESANDRAPIDGESTURESWATCHEDEVERYMOVEMENTOFTHESHIPANDREPEATEDEACHOFTHEPILOTSORDERSTHEVAGUEANXIETYHOVERINGOVERTHECROWDAFFECTEDONEMANSOMUCHTHATHECOULDNOTWAITUNTILTHESHIPENTEREDTHEHARBORHELEAPEDINTOASMALLBOATANDORDEREDTHEBOATMANTOROWHIMOUTTOMEETTHEPHARAONWHENHESAWTHISMANCOMINGTOWARDHIMTHEYOUNGSAILORLEFTHISPOSTBESIDETHEPILOTANDWALKEDOVERTOTHESIDEOFTHESHIPHOLDINGHISHATINHISHANDHEWASATALLSLENDERYOUNGMANNOMORETHANTWENTYYEARSOLDWITHDARKEYESANDHAIRASBLACKASEBONYHISWHOLEMANNERGAVEEVIDENCEOFTHATCALMNESSANDRESOLUTIONPECULIARTOTHOSEWHOHAVEBEENACCUSTOMEDTOFACINGDANGEREVERSINCETHEIRCHILDHOODAHITSYOUDANTSCRIEDTHEMANINTHEBOATWHATSHAPPENEDWHYDOESEVERYTHINGLOOKSOGLOOMYONBOARDAGREATMISFORTUNEMONSIEURMORRELREPLIEDTHEYOUNGMANWELOSTOURBRAVECAPTAINLECLREOFFCIVITAVECCHIAWHATABOUTTHECARGOASKEDTHESHIPOWNEREAGERLYITARRIVEDSAFELYMONSIEURMORRELANDITHINKYOULLBESATISFIEDONTHATSCOREBUTPOORCAPTAINLECLREWHATHAPPENEDTOHIMASKEDTHESHIPOWNERVISIBLYRELIEVEDHEDIEDOFBRAINFEVERINHORRIBLEAGONYHESNOWATRESTOFFTHEISLEOFIIGIGLIOSEWEDUPINHISHAMMOCKWITHONECANNONBALLATHISHEADANDANOTHERATHISFEETTHEYOUNGMANSMILEDSADLYANDADDEDHOWIRONICHEWAGEDWARAGAINSTTHEENGLISHFORTENLONGYEARSANDTHENDIEDINHISBEDLIKEANYONEELSEWELLWEREALLMORTALSAIDTHESHIPOWNER\n",
      "Tiempo: 2.2891600131988525\n"
     ]
    }
   ],
   "source": [
    "start = time.time()\n",
    "L = 2000\n",
    "key = \"unallavealeatoria\".upper()\n",
    "text = open('example.txt').read()[:-1].upper()#[:1000]\n",
    "text = \"\".join([i for i in text if i in alphabet])\n",
    "cipher_text = encrypt(key, text[:L], alphabet)\n",
    "print(break_rp(cipher_text, frequencies, abs_distance))\n",
    "end = time.time()\n",
    "print(f'Tiempo: {end - start}')"
   ]
  },
  {
   "cell_type": "code",
   "execution_count": null,
   "id": "dec0649f-f310-49cc-8c46-30e65c7b62e2",
   "metadata": {},
   "outputs": [],
   "source": []
  }
 ],
 "metadata": {
  "kernelspec": {
   "display_name": "Python 3 (ipykernel)",
   "language": "python",
   "name": "python3"
  },
  "language_info": {
   "codemirror_mode": {
    "name": "ipython",
    "version": 3
   },
   "file_extension": ".py",
   "mimetype": "text/x-python",
   "name": "python",
   "nbconvert_exporter": "python",
   "pygments_lexer": "ipython3",
   "version": "3.10.2"
  }
 },
 "nbformat": 4,
 "nbformat_minor": 5
}
