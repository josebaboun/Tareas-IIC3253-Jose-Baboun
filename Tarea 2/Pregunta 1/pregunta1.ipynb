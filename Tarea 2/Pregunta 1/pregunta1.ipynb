{
 "cells": [
  {
   "cell_type": "code",
   "execution_count": 1,
   "metadata": {
    "id": "V2arr5KkIy8h"
   },
   "outputs": [],
   "source": [
    "def _XOR(one,two):\n",
    "    # Referencia: https://stackoverflow.com/questions/52851023/python-3-xor-bytearrays\n",
    "    return bytes(a ^ b for (a, b) in zip(one, two))"
   ]
  },
  {
   "cell_type": "code",
   "execution_count": 2,
   "metadata": {
    "id": "z0DGtLqoI7yP"
   },
   "outputs": [],
   "source": [
    "def AES_128(key: bytearray, message: bytearray) -> bytearray:\n",
    "    a = AES.new(key, AES.MODE_ECB)\n",
    "    return bytearray(a.encrypt(message))"
   ]
  },
  {
   "cell_type": "code",
   "execution_count": 3,
   "metadata": {
    "id": "8WPKh84VIjrb"
   },
   "outputs": [],
   "source": [
    "def davies_meyer(encrypt, l_key, l_message):\n",
    "    \"\"\" Arguments:\n",
    "    encrypt: an encryption function\n",
    "    l_key: length in bytes of the keys for encrypt l_message: length in bytes of the messages for encrypt\n",
    "    Returns:\n",
    "    A compression function from messages of length l_key + l_message to messages of length l_message , defined by using the Davies -Meyer construction\n",
    "    \"\"\"\n",
    "    def compression(string_x):\n",
    "        u = bytes(string_x[:l_key])\n",
    "        v = bytes(string_x[l_key: ])\n",
    "        return _XOR(encrypt(u,v), v) \n",
    "    \n",
    "    return compression\n",
    "    "
   ]
  },
  {
   "cell_type": "code",
   "execution_count": 4,
   "metadata": {
    "id": "VOICuU46KLHD"
   },
   "outputs": [],
   "source": [
    "def pad(message, l_block):\n",
    "    \"\"\"\n",
    "    Arguments:\n",
    "    message: message to be padded l_block: length in bytes of the block\n",
    "    Returns:\n",
    "    extension of message that includes the length of message (in bytes) in its last block\n",
    "    \"\"\"\n",
    "    n_bytes = len(message)\n",
    "    if n_bytes % l_block == 0:\n",
    "        return message + n_bytes.to_bytes(l_block, \"big\")\n",
    "    else:\n",
    "        diff_to_n = l_block - (n_bytes % l_block)\n",
    "        message = message + b'\\x01' + (b'\\x00')* (diff_to_n - 1)\n",
    "        return message + n_bytes.to_bytes(l_block, \"big\")\n"
   ]
  },
  {
   "cell_type": "code",
   "execution_count": 5,
   "metadata": {
    "id": "1GBIXPyJSzMe"
   },
   "outputs": [],
   "source": [
    "def _chunker(seq, size):\n",
    "    # https://stackoverflow.com/questions/434287/what-is-the-most-pythonic-way-to-iterate-over-a-list-in-chunks\n",
    "    return (seq[pos:pos + size] for pos in range(0, len(seq), size))"
   ]
  },
  {
   "cell_type": "code",
   "execution_count": 6,
   "metadata": {
    "id": "QTYYwNATLZcf"
   },
   "outputs": [],
   "source": [
    "def merkle_damgard(IV , comp , l_block):\n",
    "    \"\"\" Arguments:\n",
    "    IV: initialization vector for a hash function\n",
    "    comp: compression function to be used in the Merkle-Damgard construction\n",
    "    l_block: length in bytes of the blocks to be used in the Merkle-Damgard construction\n",
    "    Returns:\n",
    "    A hash function for messages of arbitrary length, defined by using the Merkle -Damgard construction\n",
    "    \"\"\"\n",
    "    def encrypt(message):\n",
    "      message = pad(message, l_block)\n",
    "      blocks = _chunker(message, l_block)\n",
    "      for i, block in enumerate(blocks):\n",
    "        if i == 0:\n",
    "          H = comp(block + IV)\n",
    "        else:\n",
    "          H = comp(block + H)\n",
    "      return bytearray(H)\n",
    "    \n",
    "    return encrypt\n"
   ]
  },
  {
   "cell_type": "code",
   "execution_count": null,
   "metadata": {
    "id": "GENHM46PwhCG"
   },
   "outputs": [],
   "source": [
    "# %%capture\n",
    "# !pip install pycrypto\n",
    "# from Crypto import Random\n",
    "# from Crypto.Cipher import AES"
   ]
  },
  {
   "cell_type": "code",
   "execution_count": 10,
   "metadata": {
    "id": "dIM5rb2JI33O"
   },
   "outputs": [],
   "source": [
    "# compresion = davies_meyer(AES_128, 16, 16)\n",
    "# hash = merkle_damgard(bytearray(b'1234567890123456'), compresion, 16)\n",
    "# s1 = bytearray(b'Este es un mensaje de prueba para la tarea 2')\n",
    "# s2 = bytearray(b'Este es un mensaje de Prueba para la tarea 2')\n",
    "# s3 = bytearray(b'Un mensaje corto')\n",
    "# s4 = bytearray(b'')\n",
    "\n",
    "# h1 = hash(s1)\n",
    "# h2 = hash(s2)\n",
    "# h3 = hash(s3)\n",
    "# h4 = hash(s4)\n",
    "\n",
    "# print(h1)\n",
    "# print(h2)\n",
    "# print(h3)\n",
    "# print(h4)\n",
    "\n",
    "# bytearray(b'\\xe9\\xe8\\xac\\x12\\\\\\xf2\\xc8\\x16\\xceOV\\xc5Y.T\\xea')\n",
    "# bytearray(b'\\xb6\\xfb\\xc6a\\x12\\xae\\x95\\x1f\\xda\\xc5\\x13\\xde\\x06|Q\\x96')\n",
    "# bytearray(b'\\xc5\\xec\\xcdd\\xa4(R*\\xf0L*QtL\\xda\\x81')\n",
    "# bytearray(b'p\\xca \\xd8\\x9c\\xeb\\xe6\\xb1\\xce\\xcf\\x03\\xb2\\x9e\\x93\\x19\\xbc')"
   ]
  },
  {
   "cell_type": "code",
   "execution_count": 11,
   "metadata": {
    "id": "YyhTHFWzXYkL"
   },
   "outputs": [],
   "source": [
    "# l_key = 16\n",
    "# l_message = 16\n",
    "# l_block  = int((l_key + l_message) / 2)\n",
    "\n",
    "# compresion = davies_meyer(AES_128, l_key, l_message)\n",
    "# hash = merkle_damgard(bytearray(b'1234567890123456'), compresion, l_block)\n",
    "# s1 = bytearray(b'Este es un mensaje de prueba para la tarea 2')\n",
    "# s2 = bytearray(b'Este es un mensaje de Prueba para la tarea 2')\n",
    "# s3 = bytearray(b'Un mensaje corto')\n",
    "# s4 = bytearray(b'')\n",
    "\n",
    "# h1 = hash(s1)\n",
    "# h2 = hash(s2)\n",
    "# h3 = hash(s3)\n",
    "# h4 = hash(s4)\n",
    "\n",
    "# print(h1)\n",
    "# print(h2)\n",
    "# print(h3)\n",
    "# print(h4)"
   ]
  }
 ],
 "metadata": {
  "colab": {
   "name": "P1_criptografia.ipynb",
   "provenance": []
  },
  "kernelspec": {
   "display_name": "Python 3 (ipykernel)",
   "language": "python",
   "name": "python3"
  },
  "language_info": {
   "codemirror_mode": {
    "name": "ipython",
    "version": 3
   },
   "file_extension": ".py",
   "mimetype": "text/x-python",
   "name": "python",
   "nbconvert_exporter": "python",
   "pygments_lexer": "ipython3",
   "version": "3.10.2"
  }
 },
 "nbformat": 4,
 "nbformat_minor": 4
}
